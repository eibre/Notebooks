{
 "cells": [
  {
   "cell_type": "code",
   "execution_count": 42,
   "metadata": {},
   "outputs": [
    {
     "name": "stdout",
     "output_type": "stream",
     "text": [
      "161.565051177078\n",
      "x_ref: 5000 + x_trans:316.22776601683836 = 5316.227766016838\n",
      "y_ref: 5000 + y_trans:-4110.960958218893 = 889.0390417811068\n",
      "New Location: (5316.227766016838, 889.0390417811068)\n"
     ]
    }
   ],
   "source": [
    "import numpy as np\n",
    "\n",
    "location_space = [1000,4000]\n",
    "location_ref = [5000,5000]\n",
    "refDir_space = [-1,0]\n",
    "refDir_ref = [3, -1]\n",
    "\n",
    "def Transform(pt, v_from, v_to):\n",
    "    a = v_to\n",
    "    b = v_from\n",
    "    v = np.arccos(np.dot(a,b)/np.linalg.norm(a)/np.linalg.norm(b))\n",
    "    print(np.degrees(v))\n",
    "    cos = np.cos(v)\n",
    "    sin = np.sin(v)\n",
    "    R = np.array(((cos, sin), (-sin, cos)))\n",
    "    return np.matmul(R,pt)\n",
    "\n",
    "loc_space_trans = Transform(location_space, refDir_space, refDir_ref)\n",
    "print('x_ref: {} + x_trans:{} = {}'.format(location_ref[0],loc_space_trans[0], location_ref[0]+loc_space_trans[0]))\n",
    "print('y_ref: {} + y_trans:{} = {}'.format(location_ref[1],loc_space_trans[1], location_ref[1]+loc_space_trans[1]))\n",
    "\n",
    "print('New Location: ({}, {})'.format(location_ref[0]+loc_space_trans[0], location_ref[1]+loc_space_trans[1]))"
   ]
  },
  {
   "cell_type": "code",
   "execution_count": 2,
   "metadata": {},
   "outputs": [
    {
     "name": "stdout",
     "output_type": "stream",
     "text": [
      "global coordinate of wall wrt to space is =  [6324.55532034 3162.27766017    0.        ]\n",
      "global coordinate of space wrt to building_storey is =  [-1000. -4000.     0.]\n",
      "global coordinate of wall wrt to building_storey is =  [5324.55532034 -837.72233983    0.        ]\n",
      "local coordinate of wall wrt to building_storey is =  [-5324.55532034   837.72233983     0.        ]\n"
     ]
    }
   ],
   "source": [
    "import numpy as np\n",
    "norm = np.linalg.norm\n",
    "z_norm = np.array([0, 0, 1]) # assuming z axis is always towards +Z global?\n",
    "\n",
    "refDir_ref = x_s = np.array([3, -1, 0]) # _s for space\n",
    "x_s = x_s / norm(x_s)\n",
    "y_s = np.cross(z_norm, x_s)\n",
    "\n",
    "R_s = np.array([x_s, y_s, z_norm]).transpose()\n",
    "\n",
    "location_ref = wall_loc = np.array([5000, 5000, 0])\n",
    "\n",
    "wall_glob = R_s.dot(wall_loc)\n",
    "print('global coordinate of wall wrt to space is = ', wall_glob)\n",
    "\n",
    "refDir_space = x_b = np.array([-1, 0, 0]) # _b for building storey\n",
    "x_b = x_b / norm(x_b)\n",
    "y_b = np.cross(z_norm, x_b)\n",
    "\n",
    "R_b = np.array([x_b, y_b, z_norm]).transpose()\n",
    "\n",
    "location_space = space_loc = np.array([1000, 4000, 0])\n",
    "\n",
    "space_glob = R_b.dot(space_loc)\n",
    "print('global coordinate of space wrt to building_storey is = ', space_glob)\n",
    "\n",
    "wall_tot_glob = space_glob + wall_glob\n",
    "print('global coordinate of wall wrt to building_storey is = ', wall_tot_glob)\n",
    "\n",
    "wall_tot_loc = R_b.transpose().dot(wall_tot_glob)\n",
    "print('local coordinate of wall wrt to building_storey is = ', wall_tot_loc)"
   ]
  },
  {
   "cell_type": "code",
   "execution_count": 3,
   "metadata": {},
   "outputs": [
    {
     "name": "stdout",
     "output_type": "stream",
     "text": [
      "global coordinate of wall wrt to space is =  [6324.55532034 3162.27766017    0.        ]\n",
      "global coordinate of space wrt to building_storey is =  [-1000. -4000.     0.]\n",
      "global coordinate of wall wrt to building_storey is =  [5324.55532034 -837.72233983    0.        ]\n",
      "local coordinate of wall wrt to building_storey is =  [5316.22776602  889.03904178    0.        ]\n"
     ]
    }
   ],
   "source": [
    "import numpy as np\n",
    "norm = np.linalg.norm\n",
    "z_norm = np.array([0, 0, 1]) # assuming z axis is always towards +Z global?\n",
    "\n",
    "refDir_ref = x_s = np.array([3, -1, 0]) # _s for space\n",
    "x_s = x_s / norm(x_s)\n",
    "y_s = np.cross(z_norm, x_s)\n",
    "\n",
    "R_s = np.array([x_s, y_s, z_norm]).transpose()\n",
    "\n",
    "location_ref = wall_loc = np.array([5000, 5000, 0])\n",
    "\n",
    "wall_glob = R_s.dot(wall_loc)\n",
    "print('global coordinate of wall wrt to space is = ', wall_glob)\n",
    "\n",
    "refDir_space = x_b = np.array([-1, 0, 0]) # _b for building storey\n",
    "x_b = x_b / norm(x_b)\n",
    "y_b = np.cross(z_norm, x_b)\n",
    "\n",
    "R_b = np.array([x_b, y_b, z_norm]).transpose()\n",
    "\n",
    "location_space = space_loc = np.array([1000, 4000, 0])\n",
    "\n",
    "space_glob = R_b.dot(space_loc)\n",
    "print('global coordinate of space wrt to building_storey is = ', space_glob)\n",
    "\n",
    "wall_tot_glob = space_glob + wall_glob\n",
    "print('global coordinate of wall wrt to building_storey is = ', wall_tot_glob)\n",
    "\n",
    "wall_tot_loc = R_s.transpose().dot(wall_tot_glob)\n",
    "print('local coordinate of wall wrt to building_storey is = ', wall_tot_loc)"
   ]
  },
  {
   "cell_type": "code",
   "execution_count": null,
   "metadata": {},
   "outputs": [],
   "source": []
  }
 ],
 "metadata": {
  "kernelspec": {
   "display_name": "Python 3",
   "language": "python",
   "name": "python3"
  },
  "language_info": {
   "codemirror_mode": {
    "name": "ipython",
    "version": 3
   },
   "file_extension": ".py",
   "mimetype": "text/x-python",
   "name": "python",
   "nbconvert_exporter": "python",
   "pygments_lexer": "ipython3",
   "version": "3.7.4"
  }
 },
 "nbformat": 4,
 "nbformat_minor": 4
}
