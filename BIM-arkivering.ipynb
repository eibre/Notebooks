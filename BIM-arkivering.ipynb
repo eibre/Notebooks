{
 "cells": [
  {
   "cell_type": "markdown",
   "metadata": {},
   "source": [
    "# BIM-arkiveringsrutine\n",
    "Kjør dette for å sjekke om det er lastet opp noen nye IFC-filer på webhotellet og kopier de såfall til informasjonsflyt inn og de respektive fagmappene under BIM\\Felles.\n",
    "## Input"
   ]
  },
  {
   "cell_type": "code",
   "execution_count": 2,
   "metadata": {},
   "outputs": [],
   "source": [
    "assignment_num = '5203127'\n",
    "server_loc = 'Trondheim'\n",
    "sharepoint_ifc_file_path = r'C:\\Users\\eibre\\HENT\\1613 Nardovegen 6 - 05 Webhotell\\06 Tegninger\\00 BIM filutveksling\\02 Modell fra PG'\n",
    "sharepoint_dwg_file_path = r'C:\\Users\\eibre\\HENT\\1613 Nardovegen 6 - 05 Webhotell\\06 Tegninger\\01 ARK\\DWG tegninger\\Hovedplaner'"
   ]
  },
  {
   "cell_type": "markdown",
   "metadata": {},
   "source": [
    "## Beregning av diverse arkiveringsmappenavn:"
   ]
  },
  {
   "cell_type": "code",
   "execution_count": 3,
   "metadata": {},
   "outputs": [
    {
     "name": "stdout",
     "output_type": "stream",
     "text": [
      "X:\\nor\\oppdrag\\Trondheim\\520\\31\\5203127\n",
      "X:\\nor\\oppdrag\\Trondheim\\520\\31\\5203127\\2 Informasjonsflyt\\21 Inn\\Fra Webhotel BIM\n",
      "X:\\nor\\oppdrag\\Trondheim\\520\\31\\5203127\\BIM\\Felles\n"
     ]
    }
   ],
   "source": [
    "root_path = r'X:\\nor\\oppdrag\\{}\\{}\\{}\\{}'.format(server_loc, assignment_num[0:3], assignment_num[3:5], assignment_num)\n",
    "info_inn = root_path + r'\\2 Informasjonsflyt\\21 Inn\\Fra Webhotel BIM'\n",
    "bim_felles = root_path + r'\\BIM\\Felles'\n",
    "print(root_path)\n",
    "print(info_inn)\n",
    "print(bim_felles)"
   ]
  },
  {
   "cell_type": "markdown",
   "metadata": {},
   "source": [
    "## Mapping av fagnavn\n",
    "Norconsults BIM-koordinater har bestemt at fagmappene skal ha forskjellig navn fra prosjektets:"
   ]
  },
  {
   "cell_type": "code",
   "execution_count": 4,
   "metadata": {},
   "outputs": [],
   "source": [
    "fagnavn = {\n",
    "    'ARK': 'ekstern_Arkitektur',\n",
    "    'RivR': 'ekstern_RIVRØR',\n",
    "    'RIVv': 'ekstern_RIVv',\n",
    "    'RIE': 'RIE',\n",
    "    'Envac' : 'ekstern_Envac'\n",
    "}"
   ]
  },
  {
   "cell_type": "markdown",
   "metadata": {},
   "source": [
    "## Finne dagens dato"
   ]
  },
  {
   "cell_type": "code",
   "execution_count": 5,
   "metadata": {},
   "outputs": [],
   "source": [
    "import datetime\n",
    "\n",
    "today = datetime.datetime.now()\n",
    "date_today = '{}-{}-{}'.format(today.year, today.month, today.day)"
   ]
  },
  {
   "cell_type": "markdown",
   "metadata": {},
   "source": [
    "## Liste filer i IFC og DWG-mapper:"
   ]
  },
  {
   "cell_type": "code",
   "execution_count": 6,
   "metadata": {},
   "outputs": [],
   "source": [
    "ifc_filenames = []\n",
    "dwg_filenames = []\n",
    "\n",
    "from os import walk\n",
    "for (dirpath, dirnames, filenames) in walk(sharepoint_ifc_file_path):\n",
    "    ifc_filenames.extend(filenames)\n",
    "    break\n",
    "    \n",
    "for (dirpath, dirnames, filenames) in walk(sharepoint_dwg_file_path):\n",
    "    dwg_filenames.extend(filenames)\n",
    "    break"
   ]
  },
  {
   "cell_type": "markdown",
   "metadata": {},
   "source": [
    "## Kopiere IFC-filer hvis de er nye:\n",
    "Hvis det er mange store filer kan det ta litt tid å kjøre denne. Hvis status til venstre for ruta viser [*] i stedet for et tall må du vente"
   ]
  },
  {
   "cell_type": "code",
   "execution_count": 7,
   "metadata": {},
   "outputs": [
    {
     "name": "stdout",
     "output_type": "stream",
     "text": [
      "NB3_ARK svalgangsløsning blokk sør_optimized.zip er allerede oppdatert.\n",
      "NB3_ARK.ifc er allerede oppdatert.\n",
      "NB3_RivR Utsp. Foreløpig.ifc er allerede oppdatert.\n",
      "NB3_RivR.ifc er ny og må kopieres\n",
      "NB3_RIVv.ifc er ny og må kopieres\n",
      "NB3_RIVv_utsparinger.ifc er allerede oppdatert.\n",
      "NB3_RIE - Utsparinger.ifc er allerede oppdatert.\n",
      "NB3_RIE.ifc er allerede oppdatert.\n",
      "NB3_Envac.ifc er allerede oppdatert.\n",
      "Opprettet X:\\nor\\oppdrag\\Trondheim\\520\\31\\5203127\\2 Informasjonsflyt\\21 Inn\\Fra Webhotel BIM\\2020-11-9 IFC RivR, RIVv\n",
      "Starter kopiering....\n",
      "C:\\Users\\eibre\\HENT\\1613 Nardovegen 6 - 05 Webhotell\\06 Tegninger\\00 BIM filutveksling\\02 Modell fra PG\\NB3_RivR.ifc\n",
      "C:\\Users\\eibre\\HENT\\1613 Nardovegen 6 - 05 Webhotell\\06 Tegninger\\00 BIM filutveksling\\02 Modell fra PG\\NB3_RIVv.ifc\n",
      "Kopiering fullført\n"
     ]
    }
   ],
   "source": [
    "import shutil\n",
    "import os\n",
    "files_to_copy = []\n",
    "updated_fagnavn = set()\n",
    "for key in fagnavn:\n",
    "    for filename in ifc_filenames:\n",
    "        if '_'+key in filename:\n",
    "            file_original = sharepoint_ifc_file_path + '\\\\' + filename\n",
    "            file_copy = '{}\\\\{}\\\\{}'.format(bim_felles, fagnavn[key], filename)\n",
    "            if os.path.isfile(file_copy):\n",
    "                timestamp_0 = os.stat(file_original).st_mtime\n",
    "                timestamp_1 = os.stat(file_copy).st_mtime\n",
    "                if (timestamp_0 > timestamp_1):\n",
    "                    print('{} er ny og må kopieres'.format(filename))\n",
    "                    files_to_copy.append((file_original, file_copy))\n",
    "                    updated_fagnavn.add(key)\n",
    "                else:\n",
    "                    print('{} er allerede oppdatert.'.format(filename))\n",
    "            else:\n",
    "                print('{} har ikke vært kopiert før, kopieres.'.format(filename))\n",
    "                files_to_copy.append((file_original, file_copy))\n",
    "                updated_fagnavn.add(key)\n",
    "                \n",
    "if len(files_to_copy) > 0:\n",
    "    path_1 = info_inn + '\\\\' + date_today+ ' IFC ' + ', '.join(updated_fagnavn)\n",
    "    try:\n",
    "        os.mkdir(path_1)\n",
    "        print('Opprettet ' + path_1)\n",
    "    except OSError as error:\n",
    "        print(error)\n",
    "    \n",
    "    print('Starter kopiering....')\n",
    "    for file in files_to_copy:\n",
    "        shutil.copyfile(file[0], file[1])\n",
    "        shutil.copy2(file[0], path_1)\n",
    "        print(file[0])\n",
    "    print('Kopiering fullført')"
   ]
  },
  {
   "cell_type": "code",
   "execution_count": 8,
   "metadata": {},
   "outputs": [
    {
     "name": "stdout",
     "output_type": "stream",
     "text": [
      "0. Kjeller.dwg er allerede oppdatert.\n",
      "1. Etasje.dwg er allerede oppdatert.\n",
      "11. Takplan teknisk.dwg er allerede oppdatert.\n",
      "2. Etasje.dwg er allerede oppdatert.\n",
      "3. Etasje.dwg er allerede oppdatert.\n",
      "4. Etasje.dwg er allerede oppdatert.\n",
      "5. Etasje.dwg er allerede oppdatert.\n",
      "6. Etasje.dwg er allerede oppdatert.\n",
      "7. Etasje.dwg er allerede oppdatert.\n",
      "Takplan.dwg er allerede oppdatert.\n"
     ]
    }
   ],
   "source": [
    "import shutil\n",
    "import os\n",
    "dwg_files_to_copy = []\n",
    "key = 'ARK'\n",
    "\n",
    "for filename in dwg_filenames:\n",
    "    file_original = sharepoint_dwg_file_path + '\\\\' + filename\n",
    "    file_copy = '{}\\\\{}\\\\{}'.format(bim_felles, fagnavn[key], filename)\n",
    "    if os.path.isfile(file_copy):\n",
    "        timestamp_0 = os.stat(file_original).st_mtime\n",
    "        timestamp_1 = os.stat(file_copy).st_mtime\n",
    "        if (timestamp_0 > timestamp_1):\n",
    "            print('{} er ny og må kopieres'.format(filename))\n",
    "            dwg_files_to_copy.append((file_original, file_copy))\n",
    "        else:\n",
    "            print('{} er allerede oppdatert.'.format(filename))\n",
    "    else:\n",
    "        print('{} har ikke vært kopiert før, kopieres.'.format(filename))\n",
    "        dwg_files_to_copy.append((file_original, file_copy))\n",
    "                \n",
    "if len(dwg_files_to_copy) > 0:\n",
    "    path_1 = info_inn + '\\\\' + date_today+ ' DWG ' + key\n",
    "    try:\n",
    "        os.mkdir(path_1)\n",
    "        print('Opprettet ' + path_1)\n",
    "    except OSError as error:\n",
    "        print(error)\n",
    "    print('Starter kopiering....')   \n",
    "    for file in dwg_files_to_copy:\n",
    "        print(file[0])\n",
    "        shutil.copyfile(file[0], file[1])\n",
    "        shutil.copy2(file[0], path_1)\n",
    "    print('Kopiering fullført')"
   ]
  },
  {
   "cell_type": "code",
   "execution_count": 12,
   "metadata": {},
   "outputs": [],
   "source": [
    "# REMOVE SPACES FROM ARK IFC\n",
    "ark_ifc_filename = 'NB3_ARK'\n",
    "\n",
    "for file in files_to_copy:\n",
    "    if ark_ifc_filename in file[1]:\n",
    "        print(\"Creating a copy of {} without spaces\".format(ark_ifc_filename))\n",
    "        remove_spaces(file[1])\n",
    "        break\n",
    "\n",
    "def remove_spaces(file):\n",
    "    import ifcopenshell\n",
    "    f = ifcopenshell.open(file)\n",
    "    spaces = f.by_type('IfcSpace')\n",
    "    for space in spaces:\n",
    "        container = space.Decomposes[0].RelatingObject\n",
    "        for rel in space.ContainsElements:\n",
    "            rel.RelatingStructure = container\n",
    "        f.remove(space)\n",
    "    f.write(file[:-4]+'-no-spaces.ifc')"
   ]
  },
  {
   "cell_type": "code",
   "execution_count": null,
   "metadata": {},
   "outputs": [],
   "source": []
  }
 ],
 "metadata": {
  "kernelspec": {
   "display_name": "Python 3",
   "language": "python",
   "name": "python3"
  },
  "language_info": {
   "codemirror_mode": {
    "name": "ipython",
    "version": 3
   },
   "file_extension": ".py",
   "mimetype": "text/x-python",
   "name": "python",
   "nbconvert_exporter": "python",
   "pygments_lexer": "ipython3",
   "version": "3.7.4"
  }
 },
 "nbformat": 4,
 "nbformat_minor": 4
}
