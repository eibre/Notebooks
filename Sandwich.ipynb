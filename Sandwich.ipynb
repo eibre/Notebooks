{
 "cells": [
  {
   "cell_type": "markdown",
   "metadata": {},
   "source": [
    "# Sandwichmetoden og interasjonsmetoden.\n",
    "Metode for å finne armeringsmengder i betongskall. Dvs. betong som er påkjent av skivekrefter og membrankrefter samtidig. Beregningen utføres i to trinn:\n",
    "1. Sandvichmetoden - Her finner man en armeringsmengde ved å dele opp betongelementet i tre lag.\n",
    "2. Iterasjonsmetoden - Validering av armeringsmenge fått fra Sandwichmetoden. Dersom tøyyninger blir for store må armeringsmengdene justeres manuelt."
   ]
  },
  {
   "cell_type": "markdown",
   "metadata": {},
   "source": [
    "## INPUT FORCES:\n",
    "![](https://github.com/eibre/BABE/blob/main/src/skallKrefter2.png?raw=true)"
   ]
  },
  {
   "cell_type": "code",
   "execution_count": 3,
   "metadata": {},
   "outputs": [],
   "source": [
    "#shell forces:\n",
    "n_Edx = 50\n",
    "n_Edy = 50\n",
    "n_Edxy = 50\n",
    "\n",
    "#transverse shear:\n",
    "v_Edx = 50\n",
    "v_Edy = 50\n",
    "\n",
    "# bending moments:\n",
    "m_Edx = 50\n",
    "m_Edy = 50\n",
    "m_Edxy = 50"
   ]
  },
  {
   "cell_type": "markdown",
   "metadata": {},
   "source": [
    "## INPUT GEOMETRY:\n",
    "![](https://raw.githubusercontent.com/eibre/BABE/main/src/SandwichGeometri.png)"
   ]
  },
  {
   "cell_type": "code",
   "execution_count": 4,
   "metadata": {},
   "outputs": [],
   "source": [
    "h = 300\n",
    "c_i = 35+16\n",
    "c_s = 35+16\n",
    "t_i = 100\n",
    "t_s = 100"
   ]
  },
  {
   "cell_type": "markdown",
   "metadata": {},
   "source": [
    "## INPUT MATERIALPARAMETERS"
   ]
  },
  {
   "cell_type": "code",
   "execution_count": 20,
   "metadata": {},
   "outputs": [],
   "source": [
    "#INPUT MATERIAL\n",
    "f_ck = 30\n",
    "f_yk = 500\n",
    "E_s = 20000\n",
    "gamma_c = 1.5\n",
    "gamma_s = 1.15"
   ]
  },
  {
   "cell_type": "code",
   "execution_count": 21,
   "metadata": {},
   "outputs": [],
   "source": [
    "# calculation of concrete properties\n",
    "f_cd = 0.85*f_ck/gamma_c\n",
    "f_cm = f_ck+8\n",
    "f_ctm = 0.3*f_ck**(2/3)\n",
    "E_cm = 22000*(f_cm/10)**0.3\n",
    "eps_c2 = 0.002\n",
    "eps_cu2 = 0.0035"
   ]
  },
  {
   "cell_type": "code",
   "execution_count": 22,
   "metadata": {},
   "outputs": [],
   "source": [
    "# Calculating geometric properties\n",
    "z = h - (c_i+c_s)/2\n",
    "\n",
    "if t_i < 2*c_i:\n",
    "    t_i = 2*c_i\n",
    "if t_s < 2*c_s:\n",
    "    t_s = 2*c_s"
   ]
  },
  {
   "cell_type": "code",
   "execution_count": null,
   "metadata": {},
   "outputs": [],
   "source": [
    "# Membra"
   ]
  }
 ],
 "metadata": {
  "kernelspec": {
   "display_name": "Python 3",
   "language": "python",
   "name": "python3"
  },
  "language_info": {
   "codemirror_mode": {
    "name": "ipython",
    "version": 3
   },
   "file_extension": ".py",
   "mimetype": "text/x-python",
   "name": "python",
   "nbconvert_exporter": "python",
   "pygments_lexer": "ipython3",
   "version": "3.7.4"
  }
 },
 "nbformat": 4,
 "nbformat_minor": 4
}
