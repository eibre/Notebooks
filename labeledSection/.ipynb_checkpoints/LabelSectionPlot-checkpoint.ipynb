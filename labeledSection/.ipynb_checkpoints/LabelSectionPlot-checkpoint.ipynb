{
 "cells": [
  {
   "cell_type": "markdown",
   "metadata": {},
   "source": [
    "# Etterbehandling av named sections i FEM-Design\n",
    "Plotter og beregner resultanter. Figuren under viser en dekkeskive som spenner mellom to vegger, den har tre named sections fra venstre mot høyre RS1, RS2 og RS3. Snittene er tatt 0,5 m fra opplegg og midt i felt. Resultatene er så eksportert til en teksfil som leses her.\n",
    "\n",
    "![figur](figur1.png \"FEM-Modell\")"
   ]
  },
  {
   "cell_type": "markdown",
   "metadata": {},
   "source": [
    "### Lesing av tekstfil:"
   ]
  },
  {
   "cell_type": "code",
   "execution_count": 193,
   "metadata": {},
   "outputs": [],
   "source": [
    "import pandas as pd\n",
    "import matplotlib.pyplot as plt"
   ]
  },
  {
   "cell_type": "code",
   "execution_count": 194,
   "metadata": {},
   "outputs": [],
   "source": [
    "df = pd.read_csv(\"labeledSection.txt\", sep='\\t', header=None)\n",
    "df.columns = [\"ID\", \"x/Type\", \"Mx'\", \"My'\", \"Mx'y'\", \"Nx'\", \"Ny'\", \"Nx'y'\", \"Tx'z'\", \"Ty'z'\", \"Case\"]"
   ]
  },
  {
   "cell_type": "code",
   "execution_count": 195,
   "metadata": {},
   "outputs": [
    {
     "data": {
      "text/plain": [
       "(array(['RS1.1', 'RS2.1', 'RS3.1'], dtype=object),\n",
       " array(['enhetslast'], dtype=object))"
      ]
     },
     "execution_count": 195,
     "metadata": {},
     "output_type": "execute_result"
    }
   ],
   "source": [
    "df = df.fillna(method='ffill')\n",
    "ids = df['ID'].unique()\n",
    "cases = df['Case'].unique()\n",
    "ids, cases"
   ]
  },
  {
   "cell_type": "code",
   "execution_count": 196,
   "metadata": {},
   "outputs": [
    {
     "data": {
      "text/html": [
       "<div>\n",
       "<style>\n",
       "    .dataframe thead tr:only-child th {\n",
       "        text-align: right;\n",
       "    }\n",
       "\n",
       "    .dataframe thead th {\n",
       "        text-align: left;\n",
       "    }\n",
       "\n",
       "    .dataframe tbody tr th {\n",
       "        vertical-align: top;\n",
       "    }\n",
       "</style>\n",
       "<table border=\"1\" class=\"dataframe\">\n",
       "  <thead>\n",
       "    <tr style=\"text-align: right;\">\n",
       "      <th></th>\n",
       "      <th>ID</th>\n",
       "      <th>x/Type</th>\n",
       "      <th>Nx'</th>\n",
       "      <th>Ny'</th>\n",
       "      <th>Nx'y'</th>\n",
       "      <th>Case</th>\n",
       "    </tr>\n",
       "  </thead>\n",
       "  <tbody>\n",
       "    <tr>\n",
       "      <th>0</th>\n",
       "      <td>RS1.1</td>\n",
       "      <td>0.0</td>\n",
       "      <td>-0.676</td>\n",
       "      <td>-0.899</td>\n",
       "      <td>0.112</td>\n",
       "      <td>enhetslast</td>\n",
       "    </tr>\n",
       "    <tr>\n",
       "      <th>1</th>\n",
       "      <td>RS1.1</td>\n",
       "      <td>0.1</td>\n",
       "      <td>-0.638</td>\n",
       "      <td>-0.880</td>\n",
       "      <td>0.207</td>\n",
       "      <td>enhetslast</td>\n",
       "    </tr>\n",
       "    <tr>\n",
       "      <th>2</th>\n",
       "      <td>RS1.1</td>\n",
       "      <td>0.2</td>\n",
       "      <td>-0.600</td>\n",
       "      <td>-0.862</td>\n",
       "      <td>0.301</td>\n",
       "      <td>enhetslast</td>\n",
       "    </tr>\n",
       "    <tr>\n",
       "      <th>3</th>\n",
       "      <td>RS1.1</td>\n",
       "      <td>0.3</td>\n",
       "      <td>-0.562</td>\n",
       "      <td>-0.844</td>\n",
       "      <td>0.396</td>\n",
       "      <td>enhetslast</td>\n",
       "    </tr>\n",
       "    <tr>\n",
       "      <th>4</th>\n",
       "      <td>RS1.1</td>\n",
       "      <td>0.4</td>\n",
       "      <td>-0.524</td>\n",
       "      <td>-0.825</td>\n",
       "      <td>0.491</td>\n",
       "      <td>enhetslast</td>\n",
       "    </tr>\n",
       "  </tbody>\n",
       "</table>\n",
       "</div>"
      ],
      "text/plain": [
       "      ID  x/Type    Nx'    Ny'  Nx'y'        Case\n",
       "0  RS1.1     0.0 -0.676 -0.899  0.112  enhetslast\n",
       "1  RS1.1     0.1 -0.638 -0.880  0.207  enhetslast\n",
       "2  RS1.1     0.2 -0.600 -0.862  0.301  enhetslast\n",
       "3  RS1.1     0.3 -0.562 -0.844  0.396  enhetslast\n",
       "4  RS1.1     0.4 -0.524 -0.825  0.491  enhetslast"
      ]
     },
     "execution_count": 196,
     "metadata": {},
     "output_type": "execute_result"
    }
   ],
   "source": [
    "df = df.drop(df.columns[[2,3,4,8,9]], axis=1)\n",
    "df.head()"
   ]
  },
  {
   "cell_type": "markdown",
   "metadata": {},
   "source": [
    "Resultanter beregnes:\n",
    "$$ N_{Nx'}=\\int_{0}^{L} N_{x'} \\,dx \\cdot b $$\n",
    "$$ M_{Nx'}=\\int_{0}^{L} N_{x'} \\cdot (x-\\frac{L}{2})  \\,dx \\cdot b $$\n",
    "$$ N_{Ny'}=\\int_{0}^{L} N_{y'} dx \\cdot b $$\n",
    "$$ M_{Ny'}=\\int_{0}^{L} N_{y'} \\cdot (x-\\frac{L}{2})  \\,dx \\cdot b $$\n",
    "$$ V=\\int_{0}^{L} N_{x'y'} \\,dx \\cdot b $$"
   ]
  },
  {
   "cell_type": "markdown",
   "metadata": {},
   "source": [
    "### Noen funksjoner for plotting og summasjon av snittkrefter"
   ]
  },
  {
   "cell_type": "code",
   "execution_count": 197,
   "metadata": {},
   "outputs": [],
   "source": [
    "def moment(df, column_name):\n",
    "    mid_pt=df[\"x/Type\"].iloc[-1]/2\n",
    "    width=df[\"x/Type\"].iloc[1]-df[\"x/Type\"].iloc[0]\n",
    "    arm=df[\"x/Type\"]-mid_pt\n",
    "    moment = df[column_name]*arm*width\n",
    "    return round(moment.sum(), 2)\n",
    "\n",
    "def axial(df, column_name):\n",
    "    width=df[\"x/Type\"].iloc[1]-df[\"x/Type\"].iloc[0]\n",
    "    return round(df[column_name].sum()*width, 2)\n",
    "\n",
    "def shear(df):\n",
    "    width=df[\"x/Type\"].iloc[1]-df[\"x/Type\"].iloc[0]\n",
    "    return round(df[\"Nx'y'\"].sum()*width, 2)\n",
    "    "
   ]
  },
  {
   "cell_type": "code",
   "execution_count": 198,
   "metadata": {},
   "outputs": [],
   "source": [
    "def plotDiagrams(df):\n",
    "    x= df['x/Type']\n",
    "    y1=df[\"Nx'\"]\n",
    "    y2=df[\"Ny'\"]\n",
    "    y3=df[\"Nx'y'\"]\n",
    "    fig, (ax1, ax2, ax3) = plt.subplots(3, 1, sharex=True)\n",
    "    ax1.set_title(df['ID'].iloc[0])\n",
    "    ax1.fill_between(x, 0, y1)\n",
    "    ax1.set_ylabel('Nx')\n",
    "    \n",
    "    ax2.fill_between(x, 0, y2)\n",
    "    ax2.set_ylabel('Ny')\n",
    "    \n",
    "    ax3.fill_between(x, 0, y3)\n",
    "    ax3.set_ylabel('Nxy')\n",
    "    ax3.set_xlabel('x')\n",
    "    print(\"## Snittkrefter i \"+ df['ID'].iloc[0]+ \":\")\n",
    "    print(\"Aksialkraft N = \"+ str(axial(df,\"Nx'\"))+ \"kN\")\n",
    "    print(\"Skjærkraft V = \" + str(shear(df)) + \" kN\")\n",
    "    print(\"Moment M = \" + str(moment(df,\"Nx'\"))+ \" kNm\")\n",
    "    print(\"\\n\")"
   ]
  },
  {
   "cell_type": "markdown",
   "metadata": {},
   "source": [
    "### Plot av skivekrefter "
   ]
  },
  {
   "cell_type": "code",
   "execution_count": 199,
   "metadata": {},
   "outputs": [
    {
     "name": "stdout",
     "output_type": "stream",
     "text": [
      "## Snittkrefter i RS1.1:\n",
      "Aksialkraft N = 0.03kN\n",
      "Skjærkraft V = 10.51 kN\n",
      "Moment M = 5.24 kNm\n",
      "\n",
      "\n",
      "## Snittkrefter i RS2.1:\n",
      "Aksialkraft N = 0.58kN\n",
      "Skjærkraft V = 0.0 kN\n",
      "Moment M = 64.64 kNm\n",
      "\n",
      "\n",
      "## Snittkrefter i RS3.1:\n",
      "Aksialkraft N = 0.03kN\n",
      "Skjærkraft V = -10.51 kN\n",
      "Moment M = 5.24 kNm\n",
      "\n",
      "\n"
     ]
    },
    {
     "data": {
      "image/png": "[encoded data removed]",
      "text/plain": [
       "<matplotlib.figure.Figure at 0x2a36fe07128>"
      ]
     },
     "metadata": {
      "needs_background": "light"
     },
     "output_type": "display_data"
    },
    {
     "data": {
      "image/png": "[encoded data removed]",
      "text/plain": [
       "<matplotlib.figure.Figure at 0x2a36ea95d30>"
      ]
     },
     "metadata": {
      "needs_background": "light"
     },
     "output_type": "display_data"
    },
    {
     "data": {
      "image/png": "[encoded data removed]",
      "text/plain": [
       "<matplotlib.figure.Figure at 0x2a3702d55c0>"
      ]
     },
     "metadata": {
      "needs_background": "light"
     },
     "output_type": "display_data"
    }
   ],
   "source": [
    "for id in ids:\n",
    "    plotDiagrams(df.loc[df['ID'] == id])                       "
   ]
  },
  {
   "cell_type": "markdown",
   "metadata": {},
   "source": [
    "Neste steg er å generere en liste med alle resultantene:"
   ]
  },
  {
   "cell_type": "code",
   "execution_count": 200,
   "metadata": {},
   "outputs": [
    {
     "ename": "SyntaxError",
     "evalue": "invalid syntax (<ipython-input-200-72bce9d24f2c>, line 3)",
     "output_type": "error",
     "traceback": [
      "\u001b[1;36m  File \u001b[1;32m\"<ipython-input-200-72bce9d24f2c>\"\u001b[1;36m, line \u001b[1;32m3\u001b[0m\n\u001b[1;33m    df_resultant = pd.DataFrame(columns=header_names, dtype=)\u001b[0m\n\u001b[1;37m                                                            ^\u001b[0m\n\u001b[1;31mSyntaxError\u001b[0m\u001b[1;31m:\u001b[0m invalid syntax\n"
     ]
    }
   ],
   "source": [
    "header_names = ['ID', 'Nnx', 'Mnx', 'Nny', 'Mny','V','Case']\n",
    "data_types = []\n",
    "df_resultant = pd.DataFrame(columns=header_names, dtype=)"
   ]
  },
  {
   "cell_type": "code",
   "execution_count": null,
   "metadata": {},
   "outputs": [],
   "source": [
    "for id in ids:\n",
    "    for case in cases:\n",
    "        df_temp = (df.loc[(df['ID'] == id) & (df['Case'] == case)])\n",
    "        step = df_temp['x/Type'].iloc[1]-df_temp['x/Type'].iloc[0]\n",
    "        mid_pt = df_temp[\"x/Type\"].iloc[-1]/2\n",
    "        arm = df_temp[\"x/Type\"]-mid_pt\n",
    "        Nnx = df_temp[\"Nx'\"].sum()*step\n",
    "        Mnx = (df_temp[\"Nx'\"]*arm*step).sum()\n",
    "        Nny = df_temp[\"Ny'\"].sum()*step\n",
    "        Mny = (df_temp[\"Ny'\"]*arm*step).sum()\n",
    "        V = df_temp[\"Nx'y'\"].sum()*step\n",
    "        if df_resultant.isnull:\n",
    "            df_resultant = pd.DataFrame({'ID' : id,  'Nnx': Nnx, 'Mnx' : Mnx, 'Nny' : Nny, 'Mny' : Mny, 'V' : V, 'Case' : case}, index=[0])\n",
    "        else:\n",
    "            df_resultant.append(pd.DataFrame({'ID' : id,  'Nnx': Nnx, 'Mnx' : Mnx, 'Nny' : Nny, 'Mny' : Mny, 'V' : V, 'Case' : case}, index=[0]), ignore_index=True)\n"
   ]
  },
  {
   "cell_type": "code",
   "execution_count": 201,
   "metadata": {},
   "outputs": [
    {
     "data": {
      "text/html": [
       "<div>\n",
       "<style>\n",
       "    .dataframe thead tr:only-child th {\n",
       "        text-align: right;\n",
       "    }\n",
       "\n",
       "    .dataframe thead th {\n",
       "        text-align: left;\n",
       "    }\n",
       "\n",
       "    .dataframe tbody tr th {\n",
       "        vertical-align: top;\n",
       "    }\n",
       "</style>\n",
       "<table border=\"1\" class=\"dataframe\">\n",
       "  <thead>\n",
       "    <tr style=\"text-align: right;\">\n",
       "      <th></th>\n",
       "      <th>Case</th>\n",
       "      <th>ID</th>\n",
       "      <th>Mnx</th>\n",
       "      <th>Mny</th>\n",
       "      <th>Nnx</th>\n",
       "      <th>Nny</th>\n",
       "      <th>V</th>\n",
       "    </tr>\n",
       "  </thead>\n",
       "  <tbody>\n",
       "    <tr>\n",
       "      <th>0</th>\n",
       "      <td>enhetslast</td>\n",
       "      <td>RS3.1</td>\n",
       "      <td>5.23993</td>\n",
       "      <td>4.77234</td>\n",
       "      <td>0.0257</td>\n",
       "      <td>-2.762</td>\n",
       "      <td>-10.512</td>\n",
       "    </tr>\n",
       "  </tbody>\n",
       "</table>\n",
       "</div>"
      ],
      "text/plain": [
       "         Case     ID      Mnx      Mny     Nnx    Nny       V\n",
       "0  enhetslast  RS3.1  5.23993  4.77234  0.0257 -2.762 -10.512"
      ]
     },
     "execution_count": 201,
     "metadata": {},
     "output_type": "execute_result"
    }
   ],
   "source": [
    "df_resultant"
   ]
  },
  {
   "cell_type": "code",
   "execution_count": null,
   "metadata": {},
   "outputs": [],
   "source": []
  }
 ],
 "metadata": {
  "kernelspec": {
   "display_name": "Python 3",
   "language": "python",
   "name": "python3"
  },
  "language_info": {
   "codemirror_mode": {
    "name": "ipython",
    "version": 3
   },
   "file_extension": ".py",
   "mimetype": "text/x-python",
   "name": "python",
   "nbconvert_exporter": "python",
   "pygments_lexer": "ipython3",
   "version": "3.6.7"
  }
 },
 "nbformat": 4,
 "nbformat_minor": 2
}
