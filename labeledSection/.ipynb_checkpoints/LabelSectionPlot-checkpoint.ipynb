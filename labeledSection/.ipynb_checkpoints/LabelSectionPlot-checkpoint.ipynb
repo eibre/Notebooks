{
 "cells": [
  {
   "cell_type": "markdown",
   "metadata": {},
   "source": [
    "# Etterbehandling av \"labelled sections\" fra FEM-Design\n",
    "Dette dokumentet beregner resultanter og plotter krefter i snitt eksportert fra FEM-Design.\n",
    "\n",
    "## Eksempel-modell:\n",
    "Figuren under viser en dekkeskive på 22x8m som spenner mellom to vegger. med tre labelled sections i hver retning. Snittene er tatt 0,5 m fra opplegg og midt i felt. Fargene indikerer skallkrefter Nx'. Lasten er en enhetslast påført i positiv y-retning. Resultatene er så eksportert til en teksfil som leses her.\n",
    "![figur](figur1.png \"FEM-Modell\")\n",
    "I FEM-Design under Analysis > Auxiliary Result Objects finner man \"labelled sections\". Disse snittene kan man så sette ut på et skall, se figur.\n",
    "![labelled](labelled.png \"Labelled Sections\")\n",
    "Resultatene kan så eksporteres til tekstfil via Tools > List...\n",
    "![list_tables](list_tables.png \"List Tables\")\n"
   ]
  },
  {
   "cell_type": "markdown",
   "metadata": {},
   "source": [
    "## Lesing av tekstfil:"
   ]
  },
  {
   "cell_type": "code",
   "execution_count": 1,
   "metadata": {},
   "outputs": [],
   "source": [
    "import pandas as pd\n",
    "import matplotlib.pyplot as plt"
   ]
  },
  {
   "cell_type": "code",
   "execution_count": 2,
   "metadata": {},
   "outputs": [
    {
     "data": {
      "text/html": [
       "<div>\n",
       "<style>\n",
       "    .dataframe thead tr:only-child th {\n",
       "        text-align: right;\n",
       "    }\n",
       "\n",
       "    .dataframe thead th {\n",
       "        text-align: left;\n",
       "    }\n",
       "\n",
       "    .dataframe tbody tr th {\n",
       "        vertical-align: top;\n",
       "    }\n",
       "</style>\n",
       "<table border=\"1\" class=\"dataframe\">\n",
       "  <thead>\n",
       "    <tr style=\"text-align: right;\">\n",
       "      <th></th>\n",
       "      <th>ID</th>\n",
       "      <th>x/Type</th>\n",
       "      <th>Mx'</th>\n",
       "      <th>My'</th>\n",
       "      <th>Mx'y'</th>\n",
       "      <th>Nx'</th>\n",
       "      <th>Ny'</th>\n",
       "      <th>Nx'y'</th>\n",
       "      <th>Tx'z'</th>\n",
       "      <th>Ty'z'</th>\n",
       "      <th>Case</th>\n",
       "    </tr>\n",
       "  </thead>\n",
       "  <tbody>\n",
       "    <tr>\n",
       "      <th>0</th>\n",
       "      <td>P.1.1</td>\n",
       "      <td>0.0</td>\n",
       "      <td>0.022</td>\n",
       "      <td>0.011</td>\n",
       "      <td>0.013</td>\n",
       "      <td>0.034</td>\n",
       "      <td>-0.593</td>\n",
       "      <td>0.731</td>\n",
       "      <td>-0.006</td>\n",
       "      <td>-0.069</td>\n",
       "      <td>enhetslast</td>\n",
       "    </tr>\n",
       "    <tr>\n",
       "      <th>1</th>\n",
       "      <td>P.1.1</td>\n",
       "      <td>0.1</td>\n",
       "      <td>0.021</td>\n",
       "      <td>0.010</td>\n",
       "      <td>0.012</td>\n",
       "      <td>-0.073</td>\n",
       "      <td>-0.636</td>\n",
       "      <td>0.701</td>\n",
       "      <td>-0.004</td>\n",
       "      <td>-0.059</td>\n",
       "      <td>enhetslast</td>\n",
       "    </tr>\n",
       "    <tr>\n",
       "      <th>2</th>\n",
       "      <td>P.1.1</td>\n",
       "      <td>0.2</td>\n",
       "      <td>0.020</td>\n",
       "      <td>0.009</td>\n",
       "      <td>0.012</td>\n",
       "      <td>-0.180</td>\n",
       "      <td>-0.678</td>\n",
       "      <td>0.672</td>\n",
       "      <td>-0.003</td>\n",
       "      <td>-0.049</td>\n",
       "      <td>enhetslast</td>\n",
       "    </tr>\n",
       "    <tr>\n",
       "      <th>3</th>\n",
       "      <td>P.1.1</td>\n",
       "      <td>0.3</td>\n",
       "      <td>0.020</td>\n",
       "      <td>0.009</td>\n",
       "      <td>0.011</td>\n",
       "      <td>-0.287</td>\n",
       "      <td>-0.721</td>\n",
       "      <td>0.642</td>\n",
       "      <td>-0.001</td>\n",
       "      <td>-0.039</td>\n",
       "      <td>enhetslast</td>\n",
       "    </tr>\n",
       "    <tr>\n",
       "      <th>4</th>\n",
       "      <td>P.1.1</td>\n",
       "      <td>0.4</td>\n",
       "      <td>0.019</td>\n",
       "      <td>0.008</td>\n",
       "      <td>0.011</td>\n",
       "      <td>-0.394</td>\n",
       "      <td>-0.764</td>\n",
       "      <td>0.613</td>\n",
       "      <td>0.001</td>\n",
       "      <td>-0.029</td>\n",
       "      <td>enhetslast</td>\n",
       "    </tr>\n",
       "  </tbody>\n",
       "</table>\n",
       "</div>"
      ],
      "text/plain": [
       "      ID  x/Type    Mx'    My'  Mx'y'    Nx'    Ny'  Nx'y'  Tx'z'  Ty'z'  \\\n",
       "0  P.1.1     0.0  0.022  0.011  0.013  0.034 -0.593  0.731 -0.006 -0.069   \n",
       "1  P.1.1     0.1  0.021  0.010  0.012 -0.073 -0.636  0.701 -0.004 -0.059   \n",
       "2  P.1.1     0.2  0.020  0.009  0.012 -0.180 -0.678  0.672 -0.003 -0.049   \n",
       "3  P.1.1     0.3  0.020  0.009  0.011 -0.287 -0.721  0.642 -0.001 -0.039   \n",
       "4  P.1.1     0.4  0.019  0.008  0.011 -0.394 -0.764  0.613  0.001 -0.029   \n",
       "\n",
       "         Case  \n",
       "0  enhetslast  \n",
       "1  enhetslast  \n",
       "2  enhetslast  \n",
       "3  enhetslast  \n",
       "4  enhetslast  "
      ]
     },
     "execution_count": 2,
     "metadata": {},
     "output_type": "execute_result"
    }
   ],
   "source": [
    "df = pd.read_csv(\"labeledSection.txt\", sep='\\t', header=None)\n",
    "df.columns = [\"ID\", \"x/Type\", \"Mx'\", \"My'\", \"Mx'y'\", \"Nx'\", \"Ny'\", \"Nx'y'\", \"Tx'z'\", \"Ty'z'\", \"Case\"]\n",
    "df.head()"
   ]
  },
  {
   "cell_type": "markdown",
   "metadata": {},
   "source": [
    "Ordner felter med \"NaN\" og reduserer listen til bare skivekrefter:"
   ]
  },
  {
   "cell_type": "code",
   "execution_count": 3,
   "metadata": {},
   "outputs": [
    {
     "data": {
      "text/html": [
       "<div>\n",
       "<style>\n",
       "    .dataframe thead tr:only-child th {\n",
       "        text-align: right;\n",
       "    }\n",
       "\n",
       "    .dataframe thead th {\n",
       "        text-align: left;\n",
       "    }\n",
       "\n",
       "    .dataframe tbody tr th {\n",
       "        vertical-align: top;\n",
       "    }\n",
       "</style>\n",
       "<table border=\"1\" class=\"dataframe\">\n",
       "  <thead>\n",
       "    <tr style=\"text-align: right;\">\n",
       "      <th></th>\n",
       "      <th>ID</th>\n",
       "      <th>x/Type</th>\n",
       "      <th>Nx'</th>\n",
       "      <th>Ny'</th>\n",
       "      <th>Nx'y'</th>\n",
       "      <th>Case</th>\n",
       "    </tr>\n",
       "  </thead>\n",
       "  <tbody>\n",
       "    <tr>\n",
       "      <th>0</th>\n",
       "      <td>P.1.1</td>\n",
       "      <td>0.0</td>\n",
       "      <td>0.034</td>\n",
       "      <td>-0.593</td>\n",
       "      <td>0.731</td>\n",
       "      <td>enhetslast</td>\n",
       "    </tr>\n",
       "    <tr>\n",
       "      <th>1</th>\n",
       "      <td>P.1.1</td>\n",
       "      <td>0.1</td>\n",
       "      <td>-0.073</td>\n",
       "      <td>-0.636</td>\n",
       "      <td>0.701</td>\n",
       "      <td>enhetslast</td>\n",
       "    </tr>\n",
       "    <tr>\n",
       "      <th>2</th>\n",
       "      <td>P.1.1</td>\n",
       "      <td>0.2</td>\n",
       "      <td>-0.180</td>\n",
       "      <td>-0.678</td>\n",
       "      <td>0.672</td>\n",
       "      <td>enhetslast</td>\n",
       "    </tr>\n",
       "    <tr>\n",
       "      <th>3</th>\n",
       "      <td>P.1.1</td>\n",
       "      <td>0.3</td>\n",
       "      <td>-0.287</td>\n",
       "      <td>-0.721</td>\n",
       "      <td>0.642</td>\n",
       "      <td>enhetslast</td>\n",
       "    </tr>\n",
       "    <tr>\n",
       "      <th>4</th>\n",
       "      <td>P.1.1</td>\n",
       "      <td>0.4</td>\n",
       "      <td>-0.394</td>\n",
       "      <td>-0.764</td>\n",
       "      <td>0.613</td>\n",
       "      <td>enhetslast</td>\n",
       "    </tr>\n",
       "  </tbody>\n",
       "</table>\n",
       "</div>"
      ],
      "text/plain": [
       "      ID  x/Type    Nx'    Ny'  Nx'y'        Case\n",
       "0  P.1.1     0.0  0.034 -0.593  0.731  enhetslast\n",
       "1  P.1.1     0.1 -0.073 -0.636  0.701  enhetslast\n",
       "2  P.1.1     0.2 -0.180 -0.678  0.672  enhetslast\n",
       "3  P.1.1     0.3 -0.287 -0.721  0.642  enhetslast\n",
       "4  P.1.1     0.4 -0.394 -0.764  0.613  enhetslast"
      ]
     },
     "execution_count": 3,
     "metadata": {},
     "output_type": "execute_result"
    }
   ],
   "source": [
    "df = df.fillna(method='ffill')\n",
    "df = df.drop(df.columns[[2,3,4,8,9]], axis=1)\n",
    "df.head()"
   ]
  },
  {
   "cell_type": "markdown",
   "metadata": {},
   "source": [
    "## Formler for beregning av resultanter:\n",
    "* $ N_{Nx'}=\\int_{0}^{L} N_{x'} \\,dx \\cdot w $\n",
    "* $ M_{Nx'}=\\int_{0}^{L} N_{x'} \\cdot (x-\\frac{L}{2})  \\,dx \\cdot w $\n",
    "* $ N_{Ny'}=\\int_{0}^{L} N_{y'} dx \\cdot w $\n",
    "* $ M_{Ny'}=\\int_{0}^{L} N_{y'} \\cdot (x-\\frac{L}{2})  \\,dx \\cdot w $\n",
    "* $ V=\\int_{0}^{L} N_{x'y'} \\,dx \\cdot w $\n",
    "\n",
    "Hvor: $w = x_{n+1}-x_{n}$ (bredde på kraftresultant i gitt koordinat langs x)\n",
    "\n",
    "I kodeform blir dette:"
   ]
  },
  {
   "cell_type": "code",
   "execution_count": 4,
   "metadata": {},
   "outputs": [],
   "source": [
    "def moment_integral(df, column_name):\n",
    "    max_x = df[\"x/Type\"].iloc[-1]\n",
    "    force = df[column_name].rolling(window=2).mean()\n",
    "    arm = df[\"x/Type\"].rolling(window=2).mean()-max_x/2\n",
    "    width = df[\"x/Type\"].diff()\n",
    "    moment = (force*arm*width).sum()\n",
    "    return round(moment, 2)\n",
    "\n",
    "def force_integral(df, column_name):\n",
    "    force = df[column_name].rolling(window=2).mean()\n",
    "    width = df[\"x/Type\"].diff()\n",
    "    res_force = (force * width).sum()\n",
    "    return round(res_force, 2)"
   ]
  },
  {
   "cell_type": "markdown",
   "metadata": {},
   "source": [
    "## Beregning av resultanter"
   ]
  },
  {
   "cell_type": "code",
   "execution_count": 5,
   "metadata": {},
   "outputs": [],
   "source": [
    "header_names = ['ID', 'Nnx', 'Mnx', 'Nny', 'Mny','V','Case']\n",
    "ids = df['ID'].unique()\n",
    "cases = df['Case'].unique()\n",
    "datalist = []\n",
    "for id1 in ids:\n",
    "    for case in cases:\n",
    "        filter1 = (df['ID'] == id1) & (df['Case'] == case)\n",
    "        df_temp = df.loc[filter1]\n",
    "        Nnx = force_integral(df_temp,\"Nx'\")\n",
    "        Mnx = moment_integral(df_temp,\"Nx'\")\n",
    "        Nny = force_integral(df_temp,\"Ny'\")\n",
    "        Mny = moment_integral(df_temp,\"Ny'\")\n",
    "        V = force_integral(df_temp,\"Nx'y'\")\n",
    "        datalist.append(dict(zip(header_names, [id1, Nnx, Mnx, Nny, Mny, V, case])))        \n",
    "\n",
    "df_resultant = pd.DataFrame(datalist)"
   ]
  },
  {
   "cell_type": "code",
   "execution_count": 6,
   "metadata": {},
   "outputs": [
    {
     "data": {
      "text/html": [
       "<div>\n",
       "<style>\n",
       "    .dataframe thead tr:only-child th {\n",
       "        text-align: right;\n",
       "    }\n",
       "\n",
       "    .dataframe thead th {\n",
       "        text-align: left;\n",
       "    }\n",
       "\n",
       "    .dataframe tbody tr th {\n",
       "        vertical-align: top;\n",
       "    }\n",
       "</style>\n",
       "<table border=\"1\" class=\"dataframe\">\n",
       "  <thead>\n",
       "    <tr style=\"text-align: right;\">\n",
       "      <th></th>\n",
       "      <th>Case</th>\n",
       "      <th>ID</th>\n",
       "      <th>Mnx</th>\n",
       "      <th>Mny</th>\n",
       "      <th>Nnx</th>\n",
       "      <th>Nny</th>\n",
       "      <th>V</th>\n",
       "    </tr>\n",
       "  </thead>\n",
       "  <tbody>\n",
       "    <tr>\n",
       "      <th>0</th>\n",
       "      <td>enhetslast</td>\n",
       "      <td>P.1.1</td>\n",
       "      <td>0.00</td>\n",
       "      <td>0.00</td>\n",
       "      <td>-74.23</td>\n",
       "      <td>-21.33</td>\n",
       "      <td>0.0</td>\n",
       "    </tr>\n",
       "    <tr>\n",
       "      <th>1</th>\n",
       "      <td>enhetslast</td>\n",
       "      <td>P.1.2</td>\n",
       "      <td>-0.00</td>\n",
       "      <td>0.00</td>\n",
       "      <td>72.89</td>\n",
       "      <td>-0.34</td>\n",
       "      <td>-0.0</td>\n",
       "    </tr>\n",
       "    <tr>\n",
       "      <th>2</th>\n",
       "      <td>enhetslast</td>\n",
       "      <td>P.1.3</td>\n",
       "      <td>-0.00</td>\n",
       "      <td>0.00</td>\n",
       "      <td>0.40</td>\n",
       "      <td>-10.40</td>\n",
       "      <td>-0.0</td>\n",
       "    </tr>\n",
       "    <tr>\n",
       "      <th>3</th>\n",
       "      <td>enhetslast</td>\n",
       "      <td>RS1.1</td>\n",
       "      <td>4.85</td>\n",
       "      <td>4.59</td>\n",
       "      <td>-0.00</td>\n",
       "      <td>-2.72</td>\n",
       "      <td>10.5</td>\n",
       "    </tr>\n",
       "    <tr>\n",
       "      <th>4</th>\n",
       "      <td>enhetslast</td>\n",
       "      <td>RS2.1</td>\n",
       "      <td>59.96</td>\n",
       "      <td>6.40</td>\n",
       "      <td>-0.00</td>\n",
       "      <td>-4.01</td>\n",
       "      <td>0.0</td>\n",
       "    </tr>\n",
       "    <tr>\n",
       "      <th>5</th>\n",
       "      <td>enhetslast</td>\n",
       "      <td>RS3.1</td>\n",
       "      <td>4.85</td>\n",
       "      <td>4.59</td>\n",
       "      <td>-0.00</td>\n",
       "      <td>-2.72</td>\n",
       "      <td>-10.5</td>\n",
       "    </tr>\n",
       "  </tbody>\n",
       "</table>\n",
       "</div>"
      ],
      "text/plain": [
       "         Case     ID    Mnx   Mny    Nnx    Nny     V\n",
       "0  enhetslast  P.1.1   0.00  0.00 -74.23 -21.33   0.0\n",
       "1  enhetslast  P.1.2  -0.00  0.00  72.89  -0.34  -0.0\n",
       "2  enhetslast  P.1.3  -0.00  0.00   0.40 -10.40  -0.0\n",
       "3  enhetslast  RS1.1   4.85  4.59  -0.00  -2.72  10.5\n",
       "4  enhetslast  RS2.1  59.96  6.40  -0.00  -4.01   0.0\n",
       "5  enhetslast  RS3.1   4.85  4.59  -0.00  -2.72 -10.5"
      ]
     },
     "execution_count": 6,
     "metadata": {},
     "output_type": "execute_result"
    }
   ],
   "source": [
    "df_resultant"
   ]
  },
  {
   "cell_type": "markdown",
   "metadata": {},
   "source": [
    "Kontroll av resultater vha. bjelketeori:\n",
    "* Maks moment:  $M = \\frac{ql^2}{8}=\\frac{1\\cdot22^2}{8}=60.5 kNm$\n",
    "* Maks skjær: $V=ql/2=1 \\cdot 22/2 = 11 kN$"
   ]
  },
  {
   "cell_type": "markdown",
   "metadata": {},
   "source": [
    "## Plot av diagram"
   ]
  },
  {
   "cell_type": "code",
   "execution_count": 7,
   "metadata": {},
   "outputs": [],
   "source": [
    "def plotDiagrams(df):\n",
    "    x= df['x/Type']\n",
    "    y1=df[\"Nx'\"]\n",
    "    y2=df[\"Ny'\"]\n",
    "    y3=df[\"Nx'y'\"]\n",
    "    fig, (ax1, ax2, ax3) = plt.subplots(3, 1, sharex=True)\n",
    "    ax1.set_title(df['ID'].iloc[0])\n",
    "    ax1.fill_between(x, 0, y1)\n",
    "    ax1.set_ylabel('Nx')\n",
    "    \n",
    "    ax2.fill_between(x, 0, y2)\n",
    "    ax2.set_ylabel('Ny')\n",
    "    \n",
    "    ax3.fill_between(x, 0, y3)\n",
    "    ax3.set_ylabel('Nxy')\n",
    "    ax3.set_xlabel('x')"
   ]
  },
  {
   "cell_type": "code",
   "execution_count": 8,
   "metadata": {},
   "outputs": [
    {
     "data": {
      "image/png": "[encoded data removed]",
      "text/plain": [
       "<matplotlib.figure.Figure at 0x1c9291c52b0>"
      ]
     },
     "metadata": {
      "needs_background": "light"
     },
     "output_type": "display_data"
    },
    {
     "data": {
      "image/png": "[encoded data removed]",
      "text/plain": [
       "<matplotlib.figure.Figure at 0x1c9292d1208>"
      ]
     },
     "metadata": {
      "needs_background": "light"
     },
     "output_type": "display_data"
    },
    {
     "data": {
      "image/png": "[encoded data removed]",
      "text/plain": [
       "<matplotlib.figure.Figure at 0x1c9296313c8>"
      ]
     },
     "metadata": {
      "needs_background": "light"
     },
     "output_type": "display_data"
    },
    {
     "data": {
      "image/png": "[encoded data removed]",
      "text/plain": [
       "<matplotlib.figure.Figure at 0x1c9296e2048>"
      ]
     },
     "metadata": {
      "needs_background": "light"
     },
     "output_type": "display_data"
    },
    {
     "data": {
      "image/png": "[encoded data removed]",
      "text/plain": [
       "<matplotlib.figure.Figure at 0x1c92977c860>"
      ]
     },
     "metadata": {
      "needs_background": "light"
     },
     "output_type": "display_data"
    },
    {
     "data": {
      "image/png": "[encoded data removed]",
      "text/plain": [
       "<matplotlib.figure.Figure at 0x1c92983b908>"
      ]
     },
     "metadata": {
      "needs_background": "light"
     },
     "output_type": "display_data"
    }
   ],
   "source": [
    "for id in ids:\n",
    "    plotDiagrams(df.loc[df['ID'] == id])   "
   ]
  },
  {
   "cell_type": "markdown",
   "metadata": {},
   "source": [
    "## Sammenligning med resultanter fra connections i FEM-design\n",
    "Snitt i Y-retning:\n",
    "Figuren under viser godt samsvar mellom resultanter fra FEM-desingn og resultanter beregnet her."
   ]
  },
  {
   "cell_type": "code",
   "execution_count": 15,
   "metadata": {},
   "outputs": [
    {
     "data": {
      "text/html": [
       "<div>\n",
       "<style>\n",
       "    .dataframe thead tr:only-child th {\n",
       "        text-align: right;\n",
       "    }\n",
       "\n",
       "    .dataframe thead th {\n",
       "        text-align: left;\n",
       "    }\n",
       "\n",
       "    .dataframe tbody tr th {\n",
       "        vertical-align: top;\n",
       "    }\n",
       "</style>\n",
       "<table border=\"1\" class=\"dataframe\">\n",
       "  <thead>\n",
       "    <tr style=\"text-align: right;\">\n",
       "      <th></th>\n",
       "      <th>Case</th>\n",
       "      <th>ID</th>\n",
       "      <th>Mnx</th>\n",
       "      <th>Mny</th>\n",
       "      <th>Nnx</th>\n",
       "      <th>Nny</th>\n",
       "      <th>V</th>\n",
       "    </tr>\n",
       "  </thead>\n",
       "  <tbody>\n",
       "    <tr>\n",
       "      <th>3</th>\n",
       "      <td>enhetslast</td>\n",
       "      <td>RS1.1</td>\n",
       "      <td>4.85</td>\n",
       "      <td>4.59</td>\n",
       "      <td>-0.0</td>\n",
       "      <td>-2.72</td>\n",
       "      <td>10.5</td>\n",
       "    </tr>\n",
       "    <tr>\n",
       "      <th>4</th>\n",
       "      <td>enhetslast</td>\n",
       "      <td>RS2.1</td>\n",
       "      <td>59.96</td>\n",
       "      <td>6.40</td>\n",
       "      <td>-0.0</td>\n",
       "      <td>-4.01</td>\n",
       "      <td>0.0</td>\n",
       "    </tr>\n",
       "    <tr>\n",
       "      <th>5</th>\n",
       "      <td>enhetslast</td>\n",
       "      <td>RS3.1</td>\n",
       "      <td>4.85</td>\n",
       "      <td>4.59</td>\n",
       "      <td>-0.0</td>\n",
       "      <td>-2.72</td>\n",
       "      <td>-10.5</td>\n",
       "    </tr>\n",
       "  </tbody>\n",
       "</table>\n",
       "</div>"
      ],
      "text/plain": [
       "         Case     ID    Mnx   Mny  Nnx   Nny     V\n",
       "3  enhetslast  RS1.1   4.85  4.59 -0.0 -2.72  10.5\n",
       "4  enhetslast  RS2.1  59.96  6.40 -0.0 -4.01   0.0\n",
       "5  enhetslast  RS3.1   4.85  4.59 -0.0 -2.72 -10.5"
      ]
     },
     "execution_count": 15,
     "metadata": {},
     "output_type": "execute_result"
    }
   ],
   "source": [
    "df_resultant.iloc[3:]"
   ]
  },
  {
   "cell_type": "markdown",
   "metadata": {},
   "source": [
    "![Resultater_connections](figur2.png \"FEM-Resultater\")"
   ]
  },
  {
   "cell_type": "markdown",
   "metadata": {},
   "source": [
    "Snitt i x-retning: Finner ikke igjen verdiene av Nnx i tabellen fra FEM-design? De øvrige ser ut til å stemme bra"
   ]
  },
  {
   "cell_type": "code",
   "execution_count": 18,
   "metadata": {},
   "outputs": [
    {
     "data": {
      "text/html": [
       "<div>\n",
       "<style>\n",
       "    .dataframe thead tr:only-child th {\n",
       "        text-align: right;\n",
       "    }\n",
       "\n",
       "    .dataframe thead th {\n",
       "        text-align: left;\n",
       "    }\n",
       "\n",
       "    .dataframe tbody tr th {\n",
       "        vertical-align: top;\n",
       "    }\n",
       "</style>\n",
       "<table border=\"1\" class=\"dataframe\">\n",
       "  <thead>\n",
       "    <tr style=\"text-align: right;\">\n",
       "      <th></th>\n",
       "      <th>Case</th>\n",
       "      <th>ID</th>\n",
       "      <th>Mnx</th>\n",
       "      <th>Mny</th>\n",
       "      <th>Nnx</th>\n",
       "      <th>Nny</th>\n",
       "      <th>V</th>\n",
       "    </tr>\n",
       "  </thead>\n",
       "  <tbody>\n",
       "    <tr>\n",
       "      <th>0</th>\n",
       "      <td>enhetslast</td>\n",
       "      <td>P.1.1</td>\n",
       "      <td>0.0</td>\n",
       "      <td>0.0</td>\n",
       "      <td>-74.23</td>\n",
       "      <td>-21.33</td>\n",
       "      <td>0.0</td>\n",
       "    </tr>\n",
       "    <tr>\n",
       "      <th>1</th>\n",
       "      <td>enhetslast</td>\n",
       "      <td>P.1.2</td>\n",
       "      <td>-0.0</td>\n",
       "      <td>0.0</td>\n",
       "      <td>72.89</td>\n",
       "      <td>-0.34</td>\n",
       "      <td>-0.0</td>\n",
       "    </tr>\n",
       "    <tr>\n",
       "      <th>2</th>\n",
       "      <td>enhetslast</td>\n",
       "      <td>P.1.3</td>\n",
       "      <td>-0.0</td>\n",
       "      <td>0.0</td>\n",
       "      <td>0.40</td>\n",
       "      <td>-10.40</td>\n",
       "      <td>-0.0</td>\n",
       "    </tr>\n",
       "  </tbody>\n",
       "</table>\n",
       "</div>"
      ],
      "text/plain": [
       "         Case     ID  Mnx  Mny    Nnx    Nny    V\n",
       "0  enhetslast  P.1.1  0.0  0.0 -74.23 -21.33  0.0\n",
       "1  enhetslast  P.1.2 -0.0  0.0  72.89  -0.34 -0.0\n",
       "2  enhetslast  P.1.3 -0.0  0.0   0.40 -10.40 -0.0"
      ]
     },
     "execution_count": 18,
     "metadata": {},
     "output_type": "execute_result"
    }
   ],
   "source": [
    "df_resultant.iloc[:3]"
   ]
  },
  {
   "cell_type": "markdown",
   "metadata": {},
   "source": [
    "![fig3](figur3.png \"Line connection resultants . lengderetning\")"
   ]
  }
 ],
 "metadata": {
  "kernelspec": {
   "display_name": "Python 3",
   "language": "python",
   "name": "python3"
  },
  "language_info": {
   "codemirror_mode": {
    "name": "ipython",
    "version": 3
   },
   "file_extension": ".py",
   "mimetype": "text/x-python",
   "name": "python",
   "nbconvert_exporter": "python",
   "pygments_lexer": "ipython3",
   "version": "3.6.7"
  }
 },
 "nbformat": 4,
 "nbformat_minor": 2
}
